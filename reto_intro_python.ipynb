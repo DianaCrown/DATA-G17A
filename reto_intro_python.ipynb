{
  "nbformat": 4,
  "nbformat_minor": 0,
  "metadata": {
    "colab": {
      "name": "reto_intro_python.ipynb",
      "provenance": [],
      "collapsed_sections": [],
      "toc_visible": true,
      "include_colab_link": true
    },
    "kernelspec": {
      "name": "python3",
      "display_name": "Python 3"
    },
    "language_info": {
      "name": "python"
    }
  },
  "cells": [
    {
      "cell_type": "markdown",
      "metadata": {
        "id": "view-in-github",
        "colab_type": "text"
      },
      "source": [
        "<a href=\"https://colab.research.google.com/github/DianaCrown/DATA-G17A/blob/main/reto_intro_python.ipynb\" target=\"_parent\"><img src=\"https://colab.research.google.com/assets/colab-badge.svg\" alt=\"Open In Colab\"/></a>"
      ]
    },
    {
      "cell_type": "markdown",
      "source": [
        "Crear las siguientes variables.\n",
        "\n",
        "* Una variable donde asignes el nombre de una película\n",
        "* Una variable que contenga los primeros 4 decimales de PI\n",
        "* Una variable que contenga la cantidad de mascotas que tienes"
      ],
      "metadata": {
        "id": "ms9SLG9zRMi5"
      }
    },
    {
      "cell_type": "code",
      "source": [
        "pelicula = \"La risa en vacaciones\""
      ],
      "metadata": {
        "id": "HXryfKdpRsvT"
      },
      "execution_count": null,
      "outputs": []
    },
    {
      "cell_type": "code",
      "source": [
        "pi = 3.1416"
      ],
      "metadata": {
        "id": "Da31UjXVRtBB"
      },
      "execution_count": null,
      "outputs": []
    },
    {
      "cell_type": "code",
      "source": [
        "mascotas = 3"
      ],
      "metadata": {
        "id": "sFe9d8k7RtUj"
      },
      "execution_count": null,
      "outputs": []
    },
    {
      "cell_type": "markdown",
      "source": [
        "Imprime los siguientes mensajes utilizando format de tal manera que el resultado sea parecido a lo siguiente:\n",
        "\n",
        "```bash\n",
        "La película que elegi es Harry Potter\n",
        "````\n",
        "\n",
        "```bash\n",
        "El valor de pi es 3.1416\n",
        "````\n",
        "\n",
        "```bash\n",
        "La cantidad de mascotas que tengo son 2\n",
        "````"
      ],
      "metadata": {
        "id": "tZBN5IO_SoFr"
      }
    },
    {
      "cell_type": "code",
      "source": [
        "print(f\"La película que elegí es {pelicula}\")"
      ],
      "metadata": {
        "id": "EJfQXm6mSpGQ",
        "colab": {
          "base_uri": "https://localhost:8080/"
        },
        "outputId": "ab6872d9-54eb-47da-d621-228c89c69419"
      },
      "execution_count": null,
      "outputs": [
        {
          "output_type": "stream",
          "name": "stdout",
          "text": [
            "La película que elegí es La risa en vacaciones\n"
          ]
        }
      ]
    },
    {
      "cell_type": "code",
      "source": [
        "print(f'El valor de pi es {pi}')"
      ],
      "metadata": {
        "id": "VVVGZruXSpSg",
        "colab": {
          "base_uri": "https://localhost:8080/"
        },
        "outputId": "0b3cde08-cc3b-4f76-c3d0-e755eabc1a2d"
      },
      "execution_count": null,
      "outputs": [
        {
          "output_type": "stream",
          "name": "stdout",
          "text": [
            "El valor de pi es 3.1416\n"
          ]
        }
      ]
    },
    {
      "cell_type": "code",
      "source": [
        "print(f'La cantidad de mascotas que tengo son {mascotas}')"
      ],
      "metadata": {
        "id": "ZvJiioi3SpjL",
        "colab": {
          "base_uri": "https://localhost:8080/"
        },
        "outputId": "8bc148ba-c4a0-4823-b4d9-7aa91c0916b9"
      },
      "execution_count": null,
      "outputs": [
        {
          "output_type": "stream",
          "name": "stdout",
          "text": [
            "La cantidad de mascotas que tengo son 3\n"
          ]
        }
      ]
    },
    {
      "cell_type": "markdown",
      "source": [
        "Crea una tabla utilizando f strings donde salgan 3 empleos aleatorios, sus respectivos sueldos y el país donde radican."
      ],
      "metadata": {
        "id": "qff5RNf_Sxvy"
      }
    },
    {
      "cell_type": "code",
      "source": [
        "import random\n",
        "\n",
        "empleo = {\"Titulo\": [\"Abogado\", \"Medico\", \"Veterinario\"], \"Sueldo\": [12000, 20000, 15000], \"Pais\": [\"EU\", \"Colombia\", \"Mexico\"]}\n",
        "print(f\"\"\" \n",
        "|  Empleo   |   Sueldo   |   Pais   |\n",
        "-------------------------------\n",
        "| {random.choice(empleo[\"Titulo\"])}  |  {random.choice(empleo[\"Sueldo\"])}  |  {random.choice(empleo[\"Pais\"])}  |\n",
        "| {random.choice(empleo[\"Titulo\"])}  |  {random.choice(empleo[\"Sueldo\"])}  |  {random.choice(empleo[\"Pais\"])}  |\n",
        "| {random.choice(empleo[\"Titulo\"])}  |  {random.choice(empleo[\"Sueldo\"])}  |  {random.choice(empleo[\"Pais\"])}  |\n",
        "\"\"\")\n"
      ],
      "metadata": {
        "id": "uX7iBO31Td2G",
        "colab": {
          "base_uri": "https://localhost:8080/"
        },
        "outputId": "86ded74b-083d-4580-b178-a348230e294a"
      },
      "execution_count": null,
      "outputs": [
        {
          "output_type": "stream",
          "name": "stdout",
          "text": [
            " \n",
            "|  Empleo   |   Sueldo   |   Pais   |\n",
            "-------------------------------\n",
            "| Veterinario  |  15000  |  Mexico  |\n",
            "| Veterinario  |  12000  |  EU  |\n",
            "| Veterinario  |  20000  |  Mexico  |\n",
            "\n"
          ]
        }
      ]
    },
    {
      "cell_type": "markdown",
      "source": [
        "Desarrolla un programa donde pida 2 números y devuelva la suma, resta, multiplicación y división de los mismos."
      ],
      "metadata": {
        "id": "yWqnOS4OQxQH"
      }
    },
    {
      "cell_type": "code",
      "execution_count": null,
      "metadata": {
        "id": "VcfmeoFZQqZz",
        "colab": {
          "base_uri": "https://localhost:8080/"
        },
        "outputId": "5de2e346-2aa7-4ac7-a383-a6796837ddf7"
      },
      "outputs": [
        {
          "output_type": "stream",
          "name": "stdout",
          "text": [
            "Ingresa el primer número: 10\n",
            "Ingresa el segundo número: 2\n",
            "Suma: 12\n",
            "Resta: 8\n",
            "División: 20\n",
            "Multiplicación: 5.0\n"
          ]
        }
      ],
      "source": [
        "num1, num2 = int(input('Ingresa el primer número: ')), int(input('Ingresa el segundo número: '))\n",
        "print (f'Suma: {num1+num2}')\n",
        "print (f'Resta: {num1-num2}')\n",
        "print (f'División: {num1*num2}')\n",
        "print (f'Multiplicación: {num1/num2}')\n",
        "\n",
        "\n"
      ]
    },
    {
      "cell_type": "markdown",
      "source": [
        "Crea una lista con 4 colores y despues ejecuta las siguientes lineas de código:"
      ],
      "metadata": {
        "id": "n6_bQXdhT4l-"
      }
    },
    {
      "cell_type": "code",
      "source": [
        "colores = ['verde','azul','rojo','amarillo']"
      ],
      "metadata": {
        "id": "Zh8H7yfbT9iI"
      },
      "execution_count": null,
      "outputs": []
    },
    {
      "cell_type": "code",
      "source": [
        "print(f\"El color 0 es {colores[0]}\")\n",
        "print(f\"El color 1 es {colores[1]}\")\n",
        "print(f\"El color 2 es {colores[2]}\")\n",
        "print(f\"El color 3 es {colores[3]}\")"
      ],
      "metadata": {
        "id": "ook1SGxxT-1j",
        "colab": {
          "base_uri": "https://localhost:8080/"
        },
        "outputId": "5efa7889-1d94-4f33-c798-c9f61392d7c4"
      },
      "execution_count": null,
      "outputs": [
        {
          "output_type": "stream",
          "name": "stdout",
          "text": [
            "El color 0 es verde\n",
            "El color 1 es azul\n",
            "El color 2 es rojo\n",
            "El color 3 es amarillo\n"
          ]
        }
      ]
    },
    {
      "cell_type": "markdown",
      "source": [
        "Crea una lista con 4 ciudades y utilizando Slice, que aparezcan las 2 de enmedio"
      ],
      "metadata": {
        "id": "Nes2H1VBUOb-"
      }
    },
    {
      "cell_type": "code",
      "source": [
        "ciudades = ['CdMx','Guadalajara','Acapulco','Cancún']\n",
        "print(ciudades[1:3])"
      ],
      "metadata": {
        "id": "h9Lpky2pUVbu",
        "colab": {
          "base_uri": "https://localhost:8080/"
        },
        "outputId": "5f8e10b1-9809-4a2a-df45-7adf92e97b0d"
      },
      "execution_count": null,
      "outputs": [
        {
          "output_type": "stream",
          "name": "stdout",
          "text": [
            "['Guadalajara', 'Acapulco']\n"
          ]
        }
      ]
    },
    {
      "cell_type": "markdown",
      "source": [
        "De nuestra lista de ciudades, imprime la ultima ciudad"
      ],
      "metadata": {
        "id": "KZRc8KrtUIXs"
      }
    },
    {
      "cell_type": "code",
      "source": [
        "print(ciudades[3])"
      ],
      "metadata": {
        "id": "w4Iu12l6UZc0",
        "colab": {
          "base_uri": "https://localhost:8080/"
        },
        "outputId": "bc95aac4-bb76-41b4-fe3a-bee872a190c0"
      },
      "execution_count": null,
      "outputs": [
        {
          "output_type": "stream",
          "name": "stdout",
          "text": [
            "Cancún\n"
          ]
        }
      ]
    },
    {
      "cell_type": "markdown",
      "source": [
        "Agrega los siguientes datos a tu lista de colores: \"Morado\", \"Rosa\""
      ],
      "metadata": {
        "id": "tm1WmrjoWX9g"
      }
    },
    {
      "cell_type": "code",
      "source": [
        "colores.append('Morado')"
      ],
      "metadata": {
        "id": "59n7yhbRWgda"
      },
      "execution_count": null,
      "outputs": []
    },
    {
      "cell_type": "code",
      "source": [
        "colores.append('Rosa')"
      ],
      "metadata": {
        "id": "o6VX6k7HWg2r"
      },
      "execution_count": null,
      "outputs": []
    },
    {
      "cell_type": "markdown",
      "source": [
        "La siguiente lista contiene las alturas de 15 niños de cuarto grado, sacr el promedio de alturas."
      ],
      "metadata": {
        "id": "raJtwSsMXObz"
      }
    },
    {
      "cell_type": "code",
      "source": [
        "alturas = [1.35, 1.56, 1.42, 1.22, 1.37, 1.23, 1.40, 1.25, 1.22, 1.37, 1.30, 1.15, 1.24, 1.31, 1.17]"
      ],
      "metadata": {
        "id": "RBHJnt7RXVfn"
      },
      "execution_count": null,
      "outputs": []
    },
    {
      "cell_type": "code",
      "source": [
        "suma = sum(alturas)\n",
        "cantidad = len(alturas)\n",
        "promedio = suma/cantidad\n",
        "print(promedio)"
      ],
      "metadata": {
        "id": "OMwiQWdPXs0D",
        "colab": {
          "base_uri": "https://localhost:8080/"
        },
        "outputId": "71aba2de-bbe2-4643-846e-a38a2ad9bbae"
      },
      "execution_count": null,
      "outputs": [
        {
          "output_type": "stream",
          "name": "stdout",
          "text": [
            "1.304\n"
          ]
        }
      ]
    },
    {
      "cell_type": "markdown",
      "source": [
        "Obten la altura mas chica del grupo"
      ],
      "metadata": {
        "id": "gnmvV-6CXtFf"
      }
    },
    {
      "cell_type": "code",
      "source": [
        "print(min(alturas))"
      ],
      "metadata": {
        "id": "6_vnauWrXxxw",
        "colab": {
          "base_uri": "https://localhost:8080/"
        },
        "outputId": "af24d2a7-009c-4ba8-9bfe-b8cc66fc588a"
      },
      "execution_count": null,
      "outputs": [
        {
          "output_type": "stream",
          "name": "stdout",
          "text": [
            "1.15\n"
          ]
        }
      ]
    },
    {
      "cell_type": "markdown",
      "source": [
        "Obten la altura más alta del grupo"
      ],
      "metadata": {
        "id": "QA4QhB1RXyIP"
      }
    },
    {
      "cell_type": "code",
      "source": [
        "print(max(alturas))"
      ],
      "metadata": {
        "id": "zaEh5073X0Ef",
        "colab": {
          "base_uri": "https://localhost:8080/"
        },
        "outputId": "dbec020c-481d-4013-8c8e-d6da155b006c"
      },
      "execution_count": null,
      "outputs": [
        {
          "output_type": "stream",
          "name": "stdout",
          "text": [
            "1.56\n"
          ]
        }
      ]
    },
    {
      "cell_type": "markdown",
      "source": [
        "Crea un diccionario de perros, donde lleva 2 claves: Nombre y Raza"
      ],
      "metadata": {
        "id": "PEOwRkHPZP-h"
      }
    },
    {
      "cell_type": "code",
      "source": [
        "perros = {'Nombre': 'Dogui', 'Raza':'Chihuahua'}"
      ],
      "metadata": {
        "id": "NbaNatoIa3M8"
      },
      "execution_count": null,
      "outputs": []
    },
    {
      "cell_type": "code",
      "source": [
        ""
      ],
      "metadata": {
        "id": "x5K1wxDha3mu"
      },
      "execution_count": null,
      "outputs": []
    },
    {
      "cell_type": "markdown",
      "source": [
        "Agrega una clave llamada Edad a nuestro diccionario y asignale un valor"
      ],
      "metadata": {
        "id": "8uUUKwjxbBs9"
      }
    },
    {
      "cell_type": "code",
      "source": [
        "perros"
      ],
      "metadata": {
        "id": "fCCGf6WUbAWb"
      },
      "execution_count": null,
      "outputs": []
    },
    {
      "cell_type": "markdown",
      "source": [
        "# Nueva sección"
      ],
      "metadata": {
        "id": "R-7Fyxb3zAKt"
      }
    },
    {
      "cell_type": "markdown",
      "source": [
        "Crea 2 diccionarios de perro más incluyendo el valor edad."
      ],
      "metadata": {
        "id": "dlUIMAntbIer"
      }
    },
    {
      "cell_type": "code",
      "source": [
        ""
      ],
      "metadata": {
        "id": "1TgwcD9tbHDx"
      },
      "execution_count": null,
      "outputs": []
    },
    {
      "cell_type": "code",
      "source": [
        ""
      ],
      "metadata": {
        "id": "ubSDomr3bOxp"
      },
      "execution_count": null,
      "outputs": []
    },
    {
      "cell_type": "markdown",
      "source": [
        "Crea una lista llamada mascotas y dentro de los corchetes, agrega los 3 diccionarios"
      ],
      "metadata": {
        "id": "htGYP7tdbUQh"
      }
    },
    {
      "cell_type": "code",
      "source": [
        ""
      ],
      "metadata": {
        "id": "nc2LaxGYbPDG"
      },
      "execution_count": null,
      "outputs": []
    }
  ]
}